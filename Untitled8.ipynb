{
  "nbformat": 4,
  "nbformat_minor": 0,
  "metadata": {
    "colab": {
      "provenance": [],
      "authorship_tag": "ABX9TyPEYGTGcL2SPUeENIUzA1Ql",
      "include_colab_link": true
    },
    "kernelspec": {
      "name": "python3",
      "display_name": "Python 3"
    },
    "language_info": {
      "name": "python"
    }
  },
  "cells": [
    {
      "cell_type": "markdown",
      "metadata": {
        "id": "view-in-github",
        "colab_type": "text"
      },
      "source": [
        "<a href=\"https://colab.research.google.com/github/AlfredLTennyson/eye_gaze_data_for_1_trial/blob/main/Untitled8.ipynb\" target=\"_parent\"><img src=\"https://colab.research.google.com/assets/colab-badge.svg\" alt=\"Open In Colab\"/></a>"
      ]
    },
    {
      "cell_type": "code",
      "execution_count": 1,
      "metadata": {
        "id": "o6DBSL84L7Z5"
      },
      "outputs": [],
      "source": [
        "import pandas as pd \n",
        "import numpy as np\n",
        "import matplotlib.pyplot as plt\n"
      ]
    },
    {
      "cell_type": "code",
      "source": [
        "url='https://raw.githubusercontent.com/AlfredLTennyson/eye_gaze_data_for_1_trial/main/T_Trial1.tsv'\n",
        "dataframe=pd.read_table(url)"
      ],
      "metadata": {
        "id": "pIAREzWMMD84"
      },
      "execution_count": 22,
      "outputs": []
    },
    {
      "cell_type": "code",
      "source": [
        "dataframe1=pd.DataFrame(dataframe)"
      ],
      "metadata": {
        "id": "G-y9HUk3NOKk"
      },
      "execution_count": 23,
      "outputs": []
    },
    {
      "cell_type": "code",
      "source": [
        "pip install remodnav"
      ],
      "metadata": {
        "colab": {
          "base_uri": "https://localhost:8080/"
        },
        "id": "9m1EWOJQQD9S",
        "outputId": "d33724d1-15eb-4ed7-ceae-b47b267fbb67"
      },
      "execution_count": 9,
      "outputs": [
        {
          "output_type": "stream",
          "name": "stdout",
          "text": [
            "Looking in indexes: https://pypi.org/simple, https://us-python.pkg.dev/colab-wheels/public/simple/\n",
            "Requirement already satisfied: remodnav in /usr/local/lib/python3.7/dist-packages (1.1.1)\n",
            "Requirement already satisfied: scipy in /usr/local/lib/python3.7/dist-packages (from remodnav) (1.7.3)\n",
            "Requirement already satisfied: numpy in /usr/local/lib/python3.7/dist-packages (from remodnav) (1.21.6)\n",
            "Requirement already satisfied: matplotlib in /usr/local/lib/python3.7/dist-packages (from remodnav) (3.2.2)\n",
            "Requirement already satisfied: statsmodels in /usr/local/lib/python3.7/dist-packages (from remodnav) (0.12.2)\n",
            "Requirement already satisfied: pyparsing!=2.0.4,!=2.1.2,!=2.1.6,>=2.0.1 in /usr/local/lib/python3.7/dist-packages (from matplotlib->remodnav) (3.0.9)\n",
            "Requirement already satisfied: python-dateutil>=2.1 in /usr/local/lib/python3.7/dist-packages (from matplotlib->remodnav) (2.8.2)\n",
            "Requirement already satisfied: cycler>=0.10 in /usr/local/lib/python3.7/dist-packages (from matplotlib->remodnav) (0.11.0)\n",
            "Requirement already satisfied: kiwisolver>=1.0.1 in /usr/local/lib/python3.7/dist-packages (from matplotlib->remodnav) (1.4.4)\n",
            "Requirement already satisfied: typing-extensions in /usr/local/lib/python3.7/dist-packages (from kiwisolver>=1.0.1->matplotlib->remodnav) (4.1.1)\n",
            "Requirement already satisfied: six>=1.5 in /usr/local/lib/python3.7/dist-packages (from python-dateutil>=2.1->matplotlib->remodnav) (1.15.0)\n",
            "Requirement already satisfied: patsy>=0.5 in /usr/local/lib/python3.7/dist-packages (from statsmodels->remodnav) (0.5.3)\n",
            "Requirement already satisfied: pandas>=0.21 in /usr/local/lib/python3.7/dist-packages (from statsmodels->remodnav) (1.3.5)\n",
            "Requirement already satisfied: pytz>=2017.3 in /usr/local/lib/python3.7/dist-packages (from pandas>=0.21->statsmodels->remodnav) (2022.4)\n"
          ]
        }
      ]
    },
    {
      "cell_type": "code",
      "source": [
        "dataframe1"
      ],
      "metadata": {
        "colab": {
          "base_uri": "https://localhost:8080/",
          "height": 424
        },
        "id": "VTIYS1L1bpQw",
        "outputId": "771cd4eb-8036-4f4e-fdba-4de8bfde6d90"
      },
      "execution_count": 24,
      "outputs": [
        {
          "output_type": "execute_result",
          "data": {
            "text/plain": [
              "       Unnamed: 0        0       1\n",
              "0               0 -0.25985 -7.7452\n",
              "1               1 -0.48546 -9.6054\n",
              "2               2 -1.47080 -9.3660\n",
              "3               3 -0.49007 -8.1550\n",
              "4               4  0.01181 -8.5326\n",
              "...           ...      ...     ...\n",
              "11995       11995      NaN     NaN\n",
              "11996       11996      NaN     NaN\n",
              "11997       11997      NaN     NaN\n",
              "11998       11998      NaN     NaN\n",
              "11999       11999      NaN     NaN\n",
              "\n",
              "[12000 rows x 3 columns]"
            ],
            "text/html": [
              "\n",
              "  <div id=\"df-6c926202-8f61-4f1f-8afb-e9d2cb34d53c\">\n",
              "    <div class=\"colab-df-container\">\n",
              "      <div>\n",
              "<style scoped>\n",
              "    .dataframe tbody tr th:only-of-type {\n",
              "        vertical-align: middle;\n",
              "    }\n",
              "\n",
              "    .dataframe tbody tr th {\n",
              "        vertical-align: top;\n",
              "    }\n",
              "\n",
              "    .dataframe thead th {\n",
              "        text-align: right;\n",
              "    }\n",
              "</style>\n",
              "<table border=\"1\" class=\"dataframe\">\n",
              "  <thead>\n",
              "    <tr style=\"text-align: right;\">\n",
              "      <th></th>\n",
              "      <th>Unnamed: 0</th>\n",
              "      <th>0</th>\n",
              "      <th>1</th>\n",
              "    </tr>\n",
              "  </thead>\n",
              "  <tbody>\n",
              "    <tr>\n",
              "      <th>0</th>\n",
              "      <td>0</td>\n",
              "      <td>-0.25985</td>\n",
              "      <td>-7.7452</td>\n",
              "    </tr>\n",
              "    <tr>\n",
              "      <th>1</th>\n",
              "      <td>1</td>\n",
              "      <td>-0.48546</td>\n",
              "      <td>-9.6054</td>\n",
              "    </tr>\n",
              "    <tr>\n",
              "      <th>2</th>\n",
              "      <td>2</td>\n",
              "      <td>-1.47080</td>\n",
              "      <td>-9.3660</td>\n",
              "    </tr>\n",
              "    <tr>\n",
              "      <th>3</th>\n",
              "      <td>3</td>\n",
              "      <td>-0.49007</td>\n",
              "      <td>-8.1550</td>\n",
              "    </tr>\n",
              "    <tr>\n",
              "      <th>4</th>\n",
              "      <td>4</td>\n",
              "      <td>0.01181</td>\n",
              "      <td>-8.5326</td>\n",
              "    </tr>\n",
              "    <tr>\n",
              "      <th>...</th>\n",
              "      <td>...</td>\n",
              "      <td>...</td>\n",
              "      <td>...</td>\n",
              "    </tr>\n",
              "    <tr>\n",
              "      <th>11995</th>\n",
              "      <td>11995</td>\n",
              "      <td>NaN</td>\n",
              "      <td>NaN</td>\n",
              "    </tr>\n",
              "    <tr>\n",
              "      <th>11996</th>\n",
              "      <td>11996</td>\n",
              "      <td>NaN</td>\n",
              "      <td>NaN</td>\n",
              "    </tr>\n",
              "    <tr>\n",
              "      <th>11997</th>\n",
              "      <td>11997</td>\n",
              "      <td>NaN</td>\n",
              "      <td>NaN</td>\n",
              "    </tr>\n",
              "    <tr>\n",
              "      <th>11998</th>\n",
              "      <td>11998</td>\n",
              "      <td>NaN</td>\n",
              "      <td>NaN</td>\n",
              "    </tr>\n",
              "    <tr>\n",
              "      <th>11999</th>\n",
              "      <td>11999</td>\n",
              "      <td>NaN</td>\n",
              "      <td>NaN</td>\n",
              "    </tr>\n",
              "  </tbody>\n",
              "</table>\n",
              "<p>12000 rows × 3 columns</p>\n",
              "</div>\n",
              "      <button class=\"colab-df-convert\" onclick=\"convertToInteractive('df-6c926202-8f61-4f1f-8afb-e9d2cb34d53c')\"\n",
              "              title=\"Convert this dataframe to an interactive table.\"\n",
              "              style=\"display:none;\">\n",
              "        \n",
              "  <svg xmlns=\"http://www.w3.org/2000/svg\" height=\"24px\"viewBox=\"0 0 24 24\"\n",
              "       width=\"24px\">\n",
              "    <path d=\"M0 0h24v24H0V0z\" fill=\"none\"/>\n",
              "    <path d=\"M18.56 5.44l.94 2.06.94-2.06 2.06-.94-2.06-.94-.94-2.06-.94 2.06-2.06.94zm-11 1L8.5 8.5l.94-2.06 2.06-.94-2.06-.94L8.5 2.5l-.94 2.06-2.06.94zm10 10l.94 2.06.94-2.06 2.06-.94-2.06-.94-.94-2.06-.94 2.06-2.06.94z\"/><path d=\"M17.41 7.96l-1.37-1.37c-.4-.4-.92-.59-1.43-.59-.52 0-1.04.2-1.43.59L10.3 9.45l-7.72 7.72c-.78.78-.78 2.05 0 2.83L4 21.41c.39.39.9.59 1.41.59.51 0 1.02-.2 1.41-.59l7.78-7.78 2.81-2.81c.8-.78.8-2.07 0-2.86zM5.41 20L4 18.59l7.72-7.72 1.47 1.35L5.41 20z\"/>\n",
              "  </svg>\n",
              "      </button>\n",
              "      \n",
              "  <style>\n",
              "    .colab-df-container {\n",
              "      display:flex;\n",
              "      flex-wrap:wrap;\n",
              "      gap: 12px;\n",
              "    }\n",
              "\n",
              "    .colab-df-convert {\n",
              "      background-color: #E8F0FE;\n",
              "      border: none;\n",
              "      border-radius: 50%;\n",
              "      cursor: pointer;\n",
              "      display: none;\n",
              "      fill: #1967D2;\n",
              "      height: 32px;\n",
              "      padding: 0 0 0 0;\n",
              "      width: 32px;\n",
              "    }\n",
              "\n",
              "    .colab-df-convert:hover {\n",
              "      background-color: #E2EBFA;\n",
              "      box-shadow: 0px 1px 2px rgba(60, 64, 67, 0.3), 0px 1px 3px 1px rgba(60, 64, 67, 0.15);\n",
              "      fill: #174EA6;\n",
              "    }\n",
              "\n",
              "    [theme=dark] .colab-df-convert {\n",
              "      background-color: #3B4455;\n",
              "      fill: #D2E3FC;\n",
              "    }\n",
              "\n",
              "    [theme=dark] .colab-df-convert:hover {\n",
              "      background-color: #434B5C;\n",
              "      box-shadow: 0px 1px 3px 1px rgba(0, 0, 0, 0.15);\n",
              "      filter: drop-shadow(0px 1px 2px rgba(0, 0, 0, 0.3));\n",
              "      fill: #FFFFFF;\n",
              "    }\n",
              "  </style>\n",
              "\n",
              "      <script>\n",
              "        const buttonEl =\n",
              "          document.querySelector('#df-6c926202-8f61-4f1f-8afb-e9d2cb34d53c button.colab-df-convert');\n",
              "        buttonEl.style.display =\n",
              "          google.colab.kernel.accessAllowed ? 'block' : 'none';\n",
              "\n",
              "        async function convertToInteractive(key) {\n",
              "          const element = document.querySelector('#df-6c926202-8f61-4f1f-8afb-e9d2cb34d53c');\n",
              "          const dataTable =\n",
              "            await google.colab.kernel.invokeFunction('convertToInteractive',\n",
              "                                                     [key], {});\n",
              "          if (!dataTable) return;\n",
              "\n",
              "          const docLinkHtml = 'Like what you see? Visit the ' +\n",
              "            '<a target=\"_blank\" href=https://colab.research.google.com/notebooks/data_table.ipynb>data table notebook</a>'\n",
              "            + ' to learn more about interactive tables.';\n",
              "          element.innerHTML = '';\n",
              "          dataTable['output_type'] = 'display_data';\n",
              "          await google.colab.output.renderOutput(dataTable, element);\n",
              "          const docLink = document.createElement('div');\n",
              "          docLink.innerHTML = docLinkHtml;\n",
              "          element.appendChild(docLink);\n",
              "        }\n",
              "      </script>\n",
              "    </div>\n",
              "  </div>\n",
              "  "
            ]
          },
          "metadata": {},
          "execution_count": 24
        }
      ]
    },
    {
      "cell_type": "code",
      "source": [
        "plt.figure(figsize=(10,10))\n",
        "plt.plot(np.arange(0,12000,1),dataframe['0'],'ro',markersize=1)\n",
        "\n"
      ],
      "metadata": {
        "colab": {
          "base_uri": "https://localhost:8080/",
          "height": 609
        },
        "id": "HrdQPJwSRnn_",
        "outputId": "92998eca-e9d9-4ff3-8881-a4cdb7100187"
      },
      "execution_count": 38,
      "outputs": [
        {
          "output_type": "execute_result",
          "data": {
            "text/plain": [
              "[<matplotlib.lines.Line2D at 0x7f8cbeebd510>]"
            ]
          },
          "metadata": {},
          "execution_count": 38
        },
        {
          "output_type": "display_data",
          "data": {
            "text/plain": [
              "<Figure size 720x720 with 1 Axes>"
            ],
            "image/png": "[encoded data removed]"
          },
          "metadata": {
            "needs_background": "light"
          }
        }
      ]
    },
    {
      "cell_type": "code",
      "source": [],
      "metadata": {
        "id": "OicX06tDbLId"
      },
      "execution_count": null,
      "outputs": []
    },
    {
      "cell_type": "code",
      "metadata": {
        "colab": {
          "base_uri": "https://localhost:8080/"
        },
        "id": "760e9a6b",
        "outputId": "57d28bac-8edd-4f4e-b17f-2c698d5c5a01"
      },
      "source": [
        "# pip install the cateye library from a bash command\n",
        "!pip install git+https://github.com/DiGyt/cateyes.git -q"
      ],
      "execution_count": 39,
      "outputs": [
        {
          "output_type": "stream",
          "name": "stdout",
          "text": [
            "  Building wheel for cateyes (setup.py) ... \u001b[?25l\u001b[?25hdone\n",
            "  Building wheel for nslr (setup.py) ... \u001b[?25l\u001b[?25hdone\n",
            "  Building wheel for nslr-hmm (setup.py) ... \u001b[?25l\u001b[?25hdone\n"
          ]
        }
      ]
    },
    {
      "cell_type": "code",
      "source": [],
      "metadata": {
        "id": "Kfafs83Pi0IU"
      },
      "execution_count": null,
      "outputs": []
    },
    {
      "cell_type": "code",
      "metadata": {
        "id": "7f8cab8e"
      },
      "source": [
        "# import libraries\n",
        "import warnings\n",
        "warnings.filterwarnings('ignore')\n",
        "\n",
        "import numpy as np\n",
        "import matplotlib.pyplot as plt\n",
        "\n",
        "from cateyes import (sfreq_to_times, classify_nslr_hmm, continuous_to_discrete,\n",
        "                    plot_segmentation, plot_trajectory,classify_velocity,mad_velocity_thresh)\n",
        "from cateyes import sample_data_path"
      ],
      "execution_count": 40,
      "outputs": []
    },
    {
      "cell_type": "code",
      "source": [
        "threshold = mad_velocity_thresh(dataframe['0'], dataframe['1'], 1000, th_0=600,)"
      ],
      "metadata": {
        "id": "qKIWLRKSjORw"
      },
      "execution_count": 42,
      "outputs": []
    },
    {
      "cell_type": "code",
      "source": [
        "threshold"
      ],
      "metadata": {
        "colab": {
          "base_uri": "https://localhost:8080/"
        },
        "id": "MuXlW83zn_F6",
        "outputId": "7de2264f-e1a5-43ef-d2c4-1d02981ed188"
      },
      "execution_count": 43,
      "outputs": [
        {
          "output_type": "execute_result",
          "data": {
            "text/plain": [
              "848.1371946750376"
            ]
          },
          "metadata": {},
          "execution_count": 43
        }
      ]
    },
    {
      "cell_type": "code",
      "source": [
        "segments, classes = classify_velocity(dataframe1['0'], dataframe1['1'], 1000, threshold)"
      ],
      "metadata": {
        "id": "-G4PcOt7opXI"
      },
      "execution_count": 50,
      "outputs": []
    },
    {
      "cell_type": "code",
      "source": [
        "segments"
      ],
      "metadata": {
        "colab": {
          "base_uri": "https://localhost:8080/"
        },
        "id": "xYqWs316o39u",
        "outputId": "aa53b3a6-cd60-46db-c998-054e0219f5aa"
      },
      "execution_count": 55,
      "outputs": [
        {
          "output_type": "execute_result",
          "data": {
            "text/plain": [
              "array([   0,    1,    1, ..., 1502, 1502, 1502])"
            ]
          },
          "metadata": {},
          "execution_count": 55
        }
      ]
    },
    {
      "cell_type": "code",
      "source": [
        "classes\n"
      ],
      "metadata": {
        "colab": {
          "base_uri": "https://localhost:8080/"
        },
        "id": "vplKEUdlo6Q9",
        "outputId": "df205794-b149-40fc-bc9a-d8ae028ceced"
      },
      "execution_count": 52,
      "outputs": [
        {
          "output_type": "execute_result",
          "data": {
            "text/plain": [
              "array(['Fixation', 'Saccade', 'Saccade', ..., 'Fixation', 'Fixation',\n",
              "       'Fixation'], dtype=object)"
            ]
          },
          "metadata": {},
          "execution_count": 52
        }
      ]
    },
    {
      "cell_type": "code",
      "source": [
        "(seg_time, seg_class) = continuous_to_discrete(np.arange(1,12000,1), segments, classes)"
      ],
      "metadata": {
        "id": "0Dme0oATrQeA"
      },
      "execution_count": 54,
      "outputs": []
    },
    {
      "cell_type": "code",
      "source": [
        "times=np.arange(0,12000,1)"
      ],
      "metadata": {
        "id": "_jxGL9_EuxMe"
      },
      "execution_count": 57,
      "outputs": []
    },
    {
      "cell_type": "code",
      "source": [
        "plt.figure(figsize\n",
        "           =(10,10))\n",
        "plot_segmentation(dataframe1['0'], times, segments=(seg_time, seg_class), events=None)\n",
        "plt.xlim(0,500)"
      ],
      "metadata": {
        "colab": {
          "base_uri": "https://localhost:8080/",
          "height": 609
        },
        "id": "M5HTIZa6uOIl",
        "outputId": "bdf756f1-83ff-40d1-e6f7-dc587adaa721"
      },
      "execution_count": 64,
      "outputs": [
        {
          "output_type": "execute_result",
          "data": {
            "text/plain": [
              "(0.0, 500.0)"
            ]
          },
          "metadata": {},
          "execution_count": 64
        },
        {
          "output_type": "display_data",
          "data": {
            "text/plain": [
              "<Figure size 720x720 with 1 Axes>"
            ],
            "image/png": "[encoded data removed]"
          },
          "metadata": {
            "needs_background": "light"
          }
        }
      ]
    },
    {
      "cell_type": "code",
      "source": [
        "def mad_velocity_thresh(x, y, time, th_0=200, return_past_threshs=False):\n",
        "    \"\"\"Robust Saccade threshold estimation using median absolute deviation.\n",
        "    \n",
        "    Can be used to estimate a robust velocity threshold to use as threshold\n",
        "    parameter in the `classify_velocity` algorithm.\n",
        "    \n",
        "    Implementation taken from [this gist] by Ashima Keshava.\n",
        "    [this gist]: https://gist.github.com/ashimakeshava/ecec1dffd63e49149619d3a8f2c0031f\n",
        "    \n",
        "    For reference, see the paper:\n",
        "    \n",
        "    ---\n",
        "    Voloh, B., Watson, M. R., König, S., & Womelsdorf, T. (2019). MAD \n",
        "    saccade: statistically robust saccade threshold estimation via the \n",
        "    median absolute deviation. Journal of Eye Movement Research, 12(8).\n",
        "    ---\n",
        "    \n",
        "    Parameters\n",
        "    ----------\n",
        "    x : array of float\n",
        "        A 1D-array representing the x-axis of your gaze data.\n",
        "    y : array of float\n",
        "        A 1D-array representing the y-axis of your gaze data.\n",
        "    time : float or array of float\n",
        "        Either a 1D-array representing the sampling times of the gaze \n",
        "        arrays or a float/int that represents the sampling rate.\n",
        "    th_0 : float\n",
        "        The initial threshold used at start. Threshold can be interpreted \n",
        "        as `gaze_units/s`, with `gaze_units` being the spatial unit of \n",
        "        your eyetracking data (e.g. pixels, cm, degrees). Defaults to 200.\n",
        "    return_past_thresholds : bool\n",
        "        Whether to additionally return a list of all thresholds used \n",
        "        during iteration. Defaults do False.\n",
        "        \n",
        "    Returns\n",
        "    -------\n",
        "    threshold : float\n",
        "        The maximally allowed velocity after which a sample should be \n",
        "        classified as \"Saccade\". Threshold can be interpreted as\n",
        "        `gaze_units/ms`, with `gaze_units` being the spatial unit of \n",
        "        your eyetracking data (e.g. pixels, cm, degrees).\n",
        "    past_thresholds : list of float\n",
        "        A list of all thresholds used during iteration. Only returned\n",
        "        if `return_past_thresholds` is True.\n",
        "        \n",
        "    Example\n",
        "    --------\n",
        "    >>> threshold = mad_velocity_thresh(x, y, time)\n",
        "    >>> segments, classes = classify_velocity(x, y, time, threshold)\n",
        "    \"\"\"\n",
        "    # process time argument and calculate sample threshold\n",
        "    if hasattr(time, '__iter__'):\n",
        "        times = np.array(time)\n",
        "        if np.std(times[1:] - times[:-1]) > 1e-5:\n",
        "            warnings.warn(WARN_SFREQ)\n",
        "        sfreq = 1 / np.mean(times[1:] - times[:-1]) \n",
        "    else:\n",
        "        times = np.arange(0, len(x), 1 / time)\n",
        "        sfreq = time\n",
        "    # get init thresh per sample\n",
        "    th_0 = th_0 / sfreq\n",
        "    \n",
        "    # calculate movement velocities\n",
        "    gaze = np.stack([x, y])\n",
        "    vels = np.linalg.norm(gaze[:, 1:] - gaze[:, :-1], axis=0)\n",
        "    vels = np.concatenate([[0.], vels])\n",
        "    \n",
        "    # define saccade threshold by MAD\n",
        "    threshs = []\n",
        "    angular_vel = vels\n",
        "    while True:\n",
        "        threshs.append(th_0)\n",
        "        angular_vel = angular_vel[angular_vel < th_0]\n",
        "        median = np.median(angular_vel)\n",
        "        diff = (angular_vel - median) ** 2\n",
        "        diff = np.sqrt(diff)\n",
        "        med_abs_deviation = np.median(diff)\n",
        "        th_1 = median + 3 * 1.48 * med_abs_deviation\n",
        "        # print(th_0, th_1)\n",
        "        if (th_0 - th_1) > 1:\n",
        "            th_0 = th_1\n",
        "        else:\n",
        "            saccade_thresh = th_1\n",
        "            threshs.append(saccade_thresh)\n",
        "            break\n",
        "    \n",
        "    # revert units\n",
        "    saccade_thresh = saccade_thresh * sfreq\n",
        "    threshs = [i * sfreq for i in threshs]\n",
        "    \n",
        "    if return_past_threshs:\n",
        "        return saccade_thresh, threshs\n",
        "    else:\n",
        "        return saccade_thresh"
      ],
      "metadata": {
        "id": "72k-XMEMvCVx"
      },
      "execution_count": null,
      "outputs": []
    }
  ]
}